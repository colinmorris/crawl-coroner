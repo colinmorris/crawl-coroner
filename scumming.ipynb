{
 "cells": [
  {
   "cell_type": "code",
   "execution_count": null,
   "metadata": {
    "collapsed": true
   },
   "outputs": [],
   "source": [
    "fr['orig_species'] = fr['species'].map(get_original_species)"
   ]
  },
  {
   "cell_type": "code",
   "execution_count": null,
   "metadata": {
    "collapsed": true
   },
   "outputs": [],
   "source": [
    "death_lvls = f.loc[ilost & idrac].groupby('level').size()\n",
    "death_lvls.plot.bar(title='Draconian deaths by level');\n",
    "# No peak at lvl 7. Guess players really aren't scumming drac colours.\n",
    "# But actually looking specifically at the quitting numbers below contradicts that. Why isn't\n",
    "# this phenom visible in this graph? Hypothesis: the quitters do tend to increase the death rate\n",
    "# at level 7, but those who stick with their drac get a new power at level 7 that increases their\n",
    "# survivability, which acts as a countervaling force\n",
    "# TODO: Some day I'll understand matplotlib primitives well enough to do stuff like putting plots\n",
    "# next to each other."
   ]
  },
  {
   "cell_type": "code",
   "execution_count": null,
   "metadata": {
    "collapsed": true
   },
   "outputs": [],
   "source": [
    "f.loc[ilost].groupby('level').size().plot.bar(title='Deaths by player level');"
   ]
  },
  {
   "cell_type": "code",
   "execution_count": null,
   "metadata": {
    "collapsed": true
   },
   "outputs": [],
   "source": [
    "# Load the 'raw' data frame (which doesn't exclude games that were quit at level 1)\n",
    "fr = load_frame(raw=True)\n",
    "idrac_raw = fr['species'].isin(drac_species)"
   ]
  },
  {
   "cell_type": "code",
   "execution_count": null,
   "metadata": {
    "collapsed": true
   },
   "outputs": [],
   "source": [
    "fr.loc[iquit & idrac_raw].groupby('level').size()\\\n",
    "    .plot.bar(title='Draconian quitters by level');"
   ]
  },
  {
   "cell_type": "code",
   "execution_count": null,
   "metadata": {
    "collapsed": true
   },
   "outputs": [],
   "source": [
    "drac_quits_per_lvl = (fr.loc[iquit & idrac_raw].groupby('level').size() /\n",
    "    idrac_raw.sum())\n",
    "nondrac_quits_per_lvl = (fr.loc[iquit & ~idrac_raw].groupby('level').size() /\n",
    "    (~idrac_raw).sum())\n",
    "# TODO: write a function for this pattern\n",
    "w = .35\n",
    "PLVLS = np.arange(1,28)\n",
    "fig, ax = plt.subplots(figsize=(10,6))\n",
    "ax.bar(drac_quits_per_lvl.index, drac_quits_per_lvl.values, w, label='draconians', color='r')\n",
    "ax.bar(nondrac_quits_per_lvl.index+w, nondrac_quits_per_lvl.values, w, label='non-draconians', color='b')\n",
    "ax.legend()\n",
    "ax.set_xlim(1,10);\n",
    "ax.set_xticks(range(1,10));\n",
    "ax.set_title('Quits per player level (normalized by # games)')\n",
    "# AHA! There are draconian colour scummers out there!"
   ]
  },
  {
   "cell_type": "code",
   "execution_count": null,
   "metadata": {
    "collapsed": true
   },
   "outputs": [],
   "source": [
    "So looks like draconians overall quit at a disproportionately high rate. What about other species?\n",
    "I understand the spike at level 7, but why the huge number of quits at level 1? Should probably verify\n",
    "that this isn't just one weird user skewing the data. (They'd have to be *really* prolific though.)"
   ]
  },
  {
   "cell_type": "code",
   "execution_count": null,
   "metadata": {
    "collapsed": true
   },
   "outputs": [],
   "source": [
    "quits_per_sp = fr.loc[iquit].groupby('orig_species').size()[CANON_SPECIES].dropna()\n",
    "games_per_sp = fr.groupby('orig_species').size()[CANON_SPECIES].dropna()\n",
    "quit_rate_per_sp = 100 * quits_per_sp / games_per_sp\n",
    "quit_rate_per_sp.sort_values(ascending=0).plot.bar(title='% of games quit per species');"
   ]
  },
  {
   "cell_type": "code",
   "execution_count": null,
   "metadata": {
    "collapsed": true
   },
   "outputs": [],
   "source": [
    "# What about per background?\n",
    "from crawl_data import CANON_BGS\n",
    "quits_per_bg = fr.loc[iquit].groupby('bg').size()[CANON_BGS].dropna()\n",
    "games_per_bg = fr.groupby('bg').size()[CANON_BGS].dropna()\n",
    "quit_rate_per_bg = 100 * quits_per_bg / games_per_bg\n",
    "quit_rate_per_bg.sort_values(ascending=0).plot.bar(title='% of games quit per background');\n",
    "# Wanderer scumming!"
   ]
  },
  {
   "cell_type": "code",
   "execution_count": null,
   "metadata": {
    "collapsed": true
   },
   "outputs": [],
   "source": [
    "# What about DS scummers?\n",
    "#fr.loc[iquit & (fr['species'] == 'demonspawn')].groupby('level').size().plot.bar();\n",
    "# TODO: compare with all species/non-DS\n",
    "# TODO: win rate of monstrous DS vs. non-monstrous\n",
    "\n",
    "ids = fr['species'] == 'demonspawn'\n",
    "ds_quits_per_lvl = (100 * fr.loc[iquit & ids].groupby('level').size() /\n",
    "    ids.sum())\n",
    "nonds_quits_per_lvl = (100 * fr.loc[iquit & ~ids].groupby('level').size() /\n",
    "    (~ids).sum())\n",
    "# TODO: write a function for this pattern\n",
    "w = .35\n",
    "PLVLS = np.arange(1,28)\n",
    "fig, ax = plt.subplots(figsize=(10,6))\n",
    "ax.bar(ds_quits_per_lvl.index, ds_quits_per_lvl.values, w, label='demonspawn', color='r')\n",
    "ax.bar(nonds_quits_per_lvl.index+w, nonds_quits_per_lvl.values, w, label='non-demonspawn', color='b')\n",
    "ax.legend()\n",
    "ax.set_xlim(1,10);\n",
    "ax.set_xticks(range(1,10));\n",
    "ax.set_title('Quits per player level (as % of all games)')\n",
    "del ids"
   ]
  },
  {
   "cell_type": "code",
   "execution_count": null,
   "metadata": {
    "collapsed": true
   },
   "outputs": [],
   "source": [
    "The above only includes games that ended as a result of the player quitting via ctrl+Q or taking the stairs out of the dungeon on level 1. There are probably lots of players who instead commit suicide by spamming wait until they starve or get nibbled to death by a giant newt, so these probably underestimate the number of quitters/scummers.\n",
    "\n",
    "Could probably detect these kinds of passive suicides by looking at combat log immediately before death, and looking for stuff like \"you wait\"? Actually, pressing '.' doesn't echo any message to the console. Maybe grep for stuff like \"The rat bites you.\\nThe rat bites you.\"?\n",
    "\n",
    "Okay, here's an example from morgue-WilliamCroissant-20150604-205607.txt:\n",
    "```\n",
    "Message History\n",
    "\n",
    "The rat bites you but does no damage.\n",
    "The rat barely misses you.\n",
    "The rat bites you.\n",
    "The rat bites you but does no damage.\n",
    "The rat bites you.\n",
    "* * * LOW HITPOINT WARNING * * *\n",
    "The rat closely misses you.\n",
    "The rat barely misses you.\n",
    "The rat barely misses you.\n",
    "The rat closely misses you.\n",
    "The rat bites you but does no damage.\n",
    "The rat bites you but does no damage.\n",
    "The rat barely misses you.\n",
    "The rat barely misses you.\n",
    "The rat closely misses you.\n",
    "The rat bites you.\n",
    "* * * LOW HITPOINT WARNING * * *\n",
    "The rat barely misses you.\n",
    "The rat bites you.\n",
    "You die...\n",
    "```\n",
    "\n",
    "Finding these programmatically is pretty tricky though. Just because you got smacked around by a monster 3 or 4 or 5 times in a row without taking any action yourself, doesn't necessarily imply you're giving up. It could be that you were paralyzed at the time, or you could be surrounded, so that you get hit by 3/4/5+ different monsters each turn. This query has maybe like 50% precision?\n",
    "```\n",
    "dweeb='(rat|hobgoblin|kobold|goblin|giant cockroach|giant newt)'\n",
    "zzz=\"^(The $dweeb (bites|barely|closely|hits|completely)|You block the $dweeb|\\* \\* \\* LOW HITPOINT).*\\n\"\n",
    "find morguefiles/ -type f -exec pcregrep -H -M \"${zzz}${zzz}${zzz}${zzz}${zzz}${zzz}\" {} \\;\n",
    "```\n",
    "Not sure about recall. Hard to estimate how common this is relative to ctrl+Q quitting."
   ]
  },
  {
   "cell_type": "code",
   "execution_count": null,
   "metadata": {
    "collapsed": true
   },
   "outputs": [],
   "source": [
    "f[f['howdied']=='starved'].groupby('level').size().plot.bar();\n",
    "\n",
    "print \"{} games out of {} ended in starvation\".format(\n",
    "    (f['howdied']=='starved').sum(),\n",
    "    len(f)\n",
    ")"
   ]
  },
  {
   "cell_type": "code",
   "execution_count": null,
   "metadata": {
    "collapsed": true
   },
   "outputs": [],
   "source": [
    "Okay well, at least hunger strikes are barely a drop in the bucket. It's pretty crazy how rare death by starvation is. Also, I'm willing to bet most of the legit starvation deaths occurred in early versions of the game. Prior to 0.12, you couldn't butcher a corpse if you were wielding a cursed blunt weapon. Ah, the good old days."
   ]
  },
  {
   "cell_type": "code",
   "execution_count": null,
   "metadata": {
    "collapsed": true
   },
   "outputs": [],
   "source": [
    "(f[f['howdied']=='starved'].groupby('version').size() /\n",
    " f.groupby('version').size())\\\n",
    "    .plot.bar();\n",
    "    \n",
    "# okay, .1 and .11 did have the most starvation deaths, proportionally, but not by a large margin"
   ]
  },
  {
   "cell_type": "code",
   "execution_count": null,
   "metadata": {
    "collapsed": true
   },
   "outputs": [],
   "source": [
    "# Okay, which colours are people really sad to get?\n",
    "f.loc[iquit & (f['level'] == 7) & idrac].groupby('species').size()\\\n",
    "    .where(lambda x: x > 0).dropna().sort_values().plot.bar(title='Draconian level 7 quitters');\n",
    "# Not normalized, but that's fine since there's very little spread in the number of games per colour"
   ]
  }
 ],
 "metadata": {
  "kernelspec": {
   "display_name": "Python 2",
   "language": "python",
   "name": "python2"
  },
  "language_info": {
   "codemirror_mode": {
    "name": "ipython",
    "version": 2
   },
   "file_extension": ".py",
   "mimetype": "text/x-python",
   "name": "python",
   "nbconvert_exporter": "python",
   "pygments_lexer": "ipython2",
   "version": "2.7.6"
  }
 },
 "nbformat": 4,
 "nbformat_minor": 2
}
