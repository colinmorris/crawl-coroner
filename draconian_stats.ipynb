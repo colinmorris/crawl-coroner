{
 "cells": [
  {
   "cell_type": "code",
   "execution_count": 1,
   "metadata": {
    "collapsed": false
   },
   "outputs": [],
   "source": [
    "%matplotlib inline\n",
    "from __future__ import division\n",
    "from vis_common import load_frame, STORE\n",
    "from crawl_data import CANON_SPECIES\n",
    "from matplotlib import pyplot as plt\n",
    "import numpy as np\n",
    "import pandas as pd\n",
    "\n",
    "f = load_frame(include=[])\n",
    "ilost = STORE['ilost']\n",
    "iwon = STORE['iwon']\n",
    "iquit = STORE['iquit']\n",
    "\n",
    "species = f['species'].cat.categories\n",
    "drac_species = [sp for sp in species if 'draconian' in sp]\n",
    "idrac = f['species'].isin(drac_species)\n",
    "colored_dracs = [sp for sp in drac_species if sp != 'draconian']\n",
    "cdrac_index = f['species'].isin(colored_dracs)"
   ]
  },
  {
   "cell_type": "markdown",
   "metadata": {},
   "source": [
    "In my [previous post](/blog/dcss_species) analyzing data from the roguelike Dungeon Crawl Stone Soup, I showed this chart of win rates for different colours of draconians:"
   ]
  },
  {
   "cell_type": "code",
   "execution_count": 2,
   "metadata": {
    "collapsed": false
   },
   "outputs": [
    {
     "data": {
      "image/png": "[encoded data removed]",
      "text/plain": [
       "<matplotlib.figure.Figure at 0xa9097dcc>"
      ]
     },
     "metadata": {},
     "output_type": "display_data"
    }
   ],
   "source": [
    "fig, ax = plt.subplots(figsize=(12,7))\n",
    "colours = [(.2,.2,.2), 'pink', (1,.9,0), 'aliceblue', 'ivory', 'purple', 'green', 'crimson', 'grey']\n",
    "color_winrates = (f[cdrac_index].groupby('species')['won'].mean().dropna() * 100).sort_values()\n",
    "xrange = np.arange(len(colours))\n",
    "labels = [name.split()[0] for name in color_winrates.index]\n",
    "bars = ax.bar(xrange, color_winrates.values, \n",
    "               color=colours, tick_label=labels, \n",
    "              edgecolor='black', lw=1,\n",
    "              )\n",
    "bars[1].set_hatch('.')\n",
    "ax.set_title('Win % per draconian colour');"
   ]
  },
  {
   "cell_type": "markdown",
   "metadata": {},
   "source": [
    "To recap: Draconians are one of the starting species in DCSS. When draconian characters hit level 7, they're randomly assigned one of 9 colours, each of which comes with a unique 'breath' ability and set of passive traits. There's some debate as to which colours are the strongest and weakest. \n",
    "\n",
    "This data certainly seems to suggest that grey draconians are the best and black are the worst. By a lot, even - a random grey draconian game from our dataset is about 3 times as likely to end in victory as a black one. But I wanted to know: could these differences just be random noise from a small sample size?\n",
    "\n",
    "To start, let's see just how many games we have for each colour."
   ]
  },
  {
   "cell_type": "code",
   "execution_count": 17,
   "metadata": {
    "collapsed": false
   },
   "outputs": [
    {
     "name": "stdout",
     "output_type": "stream",
     "text": [
      "                   games played  games won     win %\n",
      "species                                             \n",
      "grey draconian           2200.0       53.0  2.409091\n",
      "red draconian            2282.0       45.0  1.971954\n",
      "green draconian          2206.0       43.0  1.949229\n",
      "purple draconian         2174.0       36.0  1.655934\n",
      "white draconian          2222.0       36.0  1.620162\n",
      "pale draconian           2174.0       29.0  1.333947\n",
      "yellow draconian         2272.0       28.0  1.232394\n",
      "mottled draconian        2206.0       27.0  1.223935\n",
      "black draconian          2311.0       24.0  1.038511\n",
      "Overall                 20047.0      321.0  1.601237\n"
     ]
    }
   ],
   "source": [
    "games = f[cdrac_index].groupby('species').size()[colored_dracs].rename('games played')\n",
    "wins = f.loc[cdrac_index & iwon].groupby('species').size()[colored_dracs].rename('games won')\n",
    "pct = (100 * wins/games).rename('win %')\n",
    "drac_table = pd.concat([games, wins, pct], axis=1).sort_values('win %', ascending=0)\n",
    "dt2 = drac_table.copy()\n",
    "dt2.index = dt2.index.astype('object')\n",
    "dt2 = dt2.append(drac_table.sum().rename('Overall'))\n",
    "ov = dt2.loc['Overall']\n",
    "ov['win %'] = ov['games won'] * 100 / ov['games played']\n",
    "cdrac_wr = ov['win %'] / 100\n",
    "print dt2\n",
    "# TODO: number formatting"
   ]
  },
  {
   "cell_type": "markdown",
   "metadata": {
    "collapsed": false
   },
   "source": [
    "That's a lot of games, but the number of victories per colour is just a few dozen. So **are these differences statistically significant?** Let's math!\n",
    "\n",
    "Our null hypothesis here is that the probability of winning the game is equal for all draconian colours. \n",
    "\n",
    "### Using the binomial test\n",
    "\n",
    "The [binomial test](https://en.wikipedia.org/wiki/Binomial_test) is a nice simple place to start. It's a test that can answer questions like \"how unlikely is it that a fair coin would land heads at least 15 times out of 20 tosses?\", and answer them exactly. We can calculate the probability of exactly k heads as...\n",
    "\n",
    "$$P(H=k) = \\binom{20}{k} .5^{20}$$\n",
    "    \n",
    "So the answer to our question is just...\n",
    "\n",
    "$$\\sum_{k=15}^{20} P(H=k)$$\n",
    "\n",
    "In general, the binomial test can answer any question of the form \"how likely is it to get an outcome as extreme as k successes in n trials given a probability of success p?\". \n",
    "\n",
    "So let's imagine the true probability of winning for any colour of draconian is just the average win rate over all colours in our sample (1.6%). Assuming this is the case, what's the chance that, when sampling ~2200 games, we get a win rate as few as 24 wins, or as many as 53? "
   ]
  },
  {
   "cell_type": "code",
   "execution_count": 15,
   "metadata": {
    "collapsed": false
   },
   "outputs": [
    {
     "data": {
      "text/plain": [
       "species\n",
       "grey draconian       0.004826\n",
       "red draconian        0.155936\n",
       "green draconian      0.202078\n",
       "purple draconian     0.797601\n",
       "white draconian      0.932517\n",
       "pale draconian       0.391743\n",
       "yellow draconian     0.180546\n",
       "mottled draconian    0.174336\n",
       "black draconian      0.030657\n",
       "Name: p-value, dtype: float64"
      ]
     },
     "execution_count": 15,
     "metadata": {},
     "output_type": "execute_result"
    }
   ],
   "source": [
    "from scipy.stats import binom_test\n",
    "\n",
    "def binom_pvalue(row):\n",
    "    played, won = row[['games played', 'games won']]\n",
    "    return binom_test(won, played, cdrac_wr, alternative='two-sided')\n",
    "\n",
    "drac_table.apply(lambda d: binom_pvalue(d), axis=1).rename('p-value')"
   ]
  },
  {
   "cell_type": "markdown",
   "metadata": {},
   "source": [
    "So under our null hypothesis, the chances of randomly observing a win rate as extreme as those of grey or black draconians are .5% and 3%, respectively. If we choose a typical significance level of 5%, then **these are good enough to call significant**. The other colours, however, don't meet that significance threshold.\n",
    "\n",
    "But there's a problem here. The chance of any given group having a significant p-value given the null hypothesis is 5%, but I tested *nine* groups. The more hypotheses I test, the greater the chance that one will produce a false positive ([relevant xkcd](https://xkcd.com/882/)). \n",
    "\n",
    "A really simple mitigation is the [Bonferroni correction](https://en.wikipedia.org/wiki/Bonferroni_correction), which just cuts the significance threshold for each of n tests down to 1/nth of the desired overall significance level. With a new threshold of .05 / 9 ~= 0.006, only grey draconians' p-value makes the cut.\n",
    "\n",
    "While we were lucky enough to get a significant result here, a major problem with this method is that it's too conservative with respect to our null hypothesis. It's possible to have a situation where none of our colours differs from the overall mean with p<.05, but where the probability of all the observations together given the null hypothesis is less than .05. Imagine, for example, 60 rolls of a die, with {1, 2, 3} coming up about 5 times each, and {4, 5, 6} coming up about 15 times each. Rolling 15 6's out of 60 rolls is not really enough evidence to conclude that the dice are rigged, but considering all 6 moderately weird counts together, we can be pretty confident the die isn't fair.\n",
    "\n",
    "If we really wanted to nitpick, we might also complain that the hypothesis we're testing against is stronger than it needs to be. Our original null hypothesis was just that the win rates of all draconian colours are the same, *not* that the win rates of all draconian colours are equal to the overall draconian sample mean that we measured at 1.6%.\n",
    "\n",
    "So rather than calculating grey draconians' p-value as\n",
    "\n",
    "    prob(>=53 games won out of 2200 | winrate=.016)\n",
    "    \n",
    "What we'd really like is to take the integral of that function over all win rates `p` from 0 to 1, weighted by a suitable prior on `p` (a [beta distribution](https://en.wikipedia.org/wiki/Beta_distribution) having α = 321, β = 20047 is a good representation of where we would expect the overall win rate to fall, given the wins and losses in our sample).\n",
    "\n",
    "It turns out this kind of compound distribution is common enough to have a name and a Wikipedia article: it's a [beta-binomial distribution](https://en.wikipedia.org/wiki/Beta-binomial_distribution). Neat.\n",
    "\n",
    "But this still doesn't help us with the main problem of combining p-values per colour to get a single p-value for our null hypothesis. Let's move on to the conventional test for these kinds of situations, which does address this problem.\n",
    "\n",
    "### The chi-squared test\n",
    "\n",
    "[Pearson's chi-squared test](https://en.wikipedia.org/wiki/Pearson%27s_chi-squared_test) takes as input a table of the frequencies of some outcomes (e.g. winning and losing) over some categories (e.g. draconian colours), and gives us a measure of the likelihood of these observations given a hypothetical distribution (e.g. our null hypothesis that all colours having the same win rate).\n",
    "\n",
    "It's not as intuitive as the binomial test, and unlike the binomial test, it is *not exact*. It relies on the data being normally distributed, which is [asymptotically true](https://en.wikipedia.org/wiki/Binomial_distribution#Normal_approximation) for binomially/multinomially distributed data such as ours. (That Wikipedia section gives some rules of thumb for whether the normal approximation is appropriate, which our data conform to.) There is an equivalent exact test, [Fisher's exact test](https://en.wikipedia.org/wiki/Fisher%27s_exact_test), but it's computationally expensive.\n",
    "    \n",
    "On the other hand, a nice aspect of this test is that we don't need to worry about combining p-values from several tests, or raising our threshold to account for multiple comparisons. Whereas before we separately tested 9 hypotheses (\"Do grey draconians win significantly more?\", \"Do purple draconians win significantly more?\", ...), now we're applying one test to all the data to test one hypothesis: are there any significant differences in win rate among colours?"
   ]
  },
  {
   "cell_type": "code",
   "execution_count": 5,
   "metadata": {
    "collapsed": false
   },
   "outputs": [
    {
     "name": "stdout",
     "output_type": "stream",
     "text": [
      "chi^2 = 21.682640495\tp-value = 0.00553897436172\tdegrees of freedom=8\n"
     ]
    }
   ],
   "source": [
    "from scipy.stats import chi2_contingency\n",
    "\n",
    "chi2, p, dof, _ = chi2_contingency(\n",
    "    drac_table[ ['games played', 'games won']].values\n",
    ")\n",
    "print \"chi^2 = {}\\tp-value = {}\\tdegrees of freedom={}\".format(chi2, p, dof)"
   ]
  },
  {
   "cell_type": "markdown",
   "metadata": {},
   "source": [
    "Significant! **There's likely a real difference in win rate among colours.**\n",
    "\n",
    "But this doesn't tell us *which* groups differ significantly from the overall mean, or which pairs of colours differ significantly from one another. For the former, the p-values per colour that we calculated previously probably serve as a pretty good key to sort on. But the latter is tricky to do in a principled way.\n",
    "\n",
    "### Comparing colours pair-wise\n",
    "\n",
    "A [z-test](https://people.richland.edu/james/lecture/m113/two_proportions.html) is a simple way to test whether two samples of some event frequencies differ in proportion. Like the chi-square test, it takes advantage of the normal approximation of binomial data. Let's use it to compare grey dragons with their lesser siblings."
   ]
  },
  {
   "cell_type": "code",
   "execution_count": 14,
   "metadata": {
    "collapsed": false
   },
   "outputs": [
    {
     "data": {
      "text/plain": [
       "species\n",
       "grey draconian       1.000000\n",
       "red draconian        0.317117\n",
       "green draconian      0.295831\n",
       "purple draconian     0.077734\n",
       "white draconian      0.061783\n",
       "pale draconian       0.008760\n",
       "yellow draconian     0.003179\n",
       "mottled draconian    0.003220\n",
       "black draconian      0.000382\n",
       "Name: p-value, dtype: float64"
      ]
     },
     "execution_count": 14,
     "metadata": {},
     "output_type": "execute_result"
    }
   ],
   "source": [
    "import math\n",
    "from scipy.stats import norm\n",
    "def z_test(x1, n1, x2, n2):\n",
    "    p1 = x1/n1\n",
    "    p2 = x2/n2\n",
    "    pbar = (x1+x2)/(n1+n2)\n",
    "    qbar = (1 - pbar)\n",
    "    numerator = p1 - p2\n",
    "    denom = math.sqrt(pbar * qbar * (1/n1 + 1/n2))\n",
    "    return numerator/denom\n",
    "\n",
    "n1, x1 = drac_table[['games played', 'games won']].loc['grey draconian']\n",
    "std_norm = norm()\n",
    "\n",
    "\n",
    "def ztest_pvalue(row):\n",
    "    n2, x2 = row[['games played', 'games won']]\n",
    "    z = z_test(x1, n1, x2, n2)\n",
    "    return std_norm.cdf(-abs(z)) * 2 # times 2 for 2-tailed test. Which I assume is appropriate.\n",
    "\n",
    "drac_table.apply(lambda d: ztest_pvalue(d), axis=1).rename('p-value')"
   ]
  },
  {
   "cell_type": "markdown",
   "metadata": {},
   "source": [
    "Let's start with the easy conclusions. If we wish to keep using a significance level of 5% (i.e. mistakenly reject the null hypothesis no more than 5% of the time), then we do not have sufficient evidence to conclude that grey draconians are significantly better than red, green, purple, or white draconians. Or grey draconians, I guess.\n",
    "\n",
    "Can we conclude that pale, yellow, mottled and black draconians are all worse than grey? Unfortunately the problem of multiple comparisons rears its head again, and even dividing our p-value threshold by 9 isn't enough to save us this time, because I've committed a new crime: [Testing hypotheses suggested by the data](https://en.wikipedia.org/wiki/Testing_hypotheses_suggested_by_the_data).\n",
    "\n",
    "The decision to fix grey as the colour to compare all others against wasn't arbitrary. I chose that colour because I saw it had the highest win rate. \n",
    "\n",
    "In some sense, my p-values should probably be adjusted according to the number of tests I'd need to do to find a given effect *without being guided by snooping the data*. So perhaps I need to go as far as dividing my threshold by the number of all possible pairs? \n",
    "\n",
    "Let's give it a shot, applying the slightly more powerful [Holm-Bonferroni method](https://en.wikipedia.org/wiki/Holm%E2%80%93Bonferroni_method)."
   ]
  },
  {
   "cell_type": "code",
   "execution_count": 13,
   "metadata": {
    "collapsed": false
   },
   "outputs": [
    {
     "name": "stdout",
     "output_type": "stream",
     "text": [
      "Significant pairs...\n",
      "\n",
      "          species_x       species_y\n",
      "72  black draconian  grey draconian\n"
     ]
    }
   ],
   "source": [
    "def ztest_pair_pvalue(row):\n",
    "    n1, x1, n2, x2 = row[['games played_x', 'games won_x', 'games played_y', 'games won_y']]\n",
    "    z = z_test(x1, n1, x2, n2)\n",
    "    return std_norm.cdf(-abs(z)) * 2\n",
    "\n",
    "def holm_bonferonni(row, m):\n",
    "    alpha = .05\n",
    "    rank, p = row[['rank', 'p']]\n",
    "    thresh = alpha / (m-rank)\n",
    "    return thresh\n",
    "\n",
    "drac1 = drac_table[['games played', 'games won']].copy()\n",
    "drac1['tmp'] = 1\n",
    "drac1['species'] = drac_table.index\n",
    "drac2 = drac1.copy()\n",
    "pairs = pd.merge(drac1, drac2, on='tmp')\n",
    "# One row for each distinct pair with non-identical species\n",
    "iuniq = pairs['species_x'] < pairs['species_y']\n",
    "pairs = pairs.loc[iuniq]\n",
    "paired_p = pairs.apply(lambda d: ztest_pair_pvalue(d), axis=1).rename('p')\n",
    "paired_p.sort_values(inplace=True)\n",
    "paired_p = paired_p.to_frame()\n",
    "paired_p['rank'] = range(len(paired_p))\n",
    "paired_p['thresh'] = paired_p.apply(lambda d: holm_bonferonni(d, len(paired_p)), axis=1)\n",
    "pairs.loc[paired_p.index][['species_x', 'species_y']]\n",
    "under = paired_p['p'] <= paired_p['thresh']\n",
    "print \"Significant pairs...\\n\"\n",
    "print pairs.loc[under[under].index][['species_x', 'species_y']]"
   ]
  },
  {
   "cell_type": "markdown",
   "metadata": {},
   "source": [
    "As it turns out, **(black, grey) is the only pair whose difference we can be confident about**.\n",
    "\n",
    "(Holm-)Bonferroni has the nice properties of being simple and working everywhere, but it can be overly conservative. There seem to be some more powerful methods tailored to this specific problem, which use the [Studentized range distribution](https://en.wikipedia.org/wiki/Studentized_range_distribution), but they're tricky.\n",
    "\n",
    "## Dredging vs. spear-fishing\n",
    "\n",
    "The reason we're needing to apply such harsh penalties to our p-values is that we're [data dredging](https://en.wikipedia.org/wiki/Data_dredging). We're exhaustively checking all possible relationships, and the more comparisons we do, the more stringent we need to be about the p-value of any particular test.\n",
    "\n",
    "Therefore, an attractive alternative is to test a smaller number of targeted hypotheses formed *before* looking at the data, based on some prior knowledge of the domain. I looked at a few forum posts about draconian colours...\n",
    "\n",
    "- [Rank the draconian colors](https://crawl.develz.org/tavern/viewtopic.php?f=5&t=10176&p=140405)\n",
    "- [Tier list: Draconian colors](https://crawl.develz.org/tavern/viewtopic.php?f=17&t=19271&p=261183)\n",
    "- [Buff certain draconian colors](https://crawl.develz.org/tavern/viewtopic.php?f=8&t=20683&p=279050)\n",
    "\n",
    "and took five posts that assessed all nine colours, and roughly translated them into grades of low/medium/high. There was a lot of disagreement, but Yellow was clearly the worst ranked (5/5 low ratings), and Red the best (4 high ratings, 1 medium). This suggests a single hypothesis to test: **are red draconians better than yellow?**"
   ]
  },
  {
   "cell_type": "code",
   "execution_count": 8,
   "metadata": {
    "collapsed": false
   },
   "outputs": [
    {
     "name": "stdout",
     "output_type": "stream",
     "text": [
      "0.0469299129725\n"
     ]
    }
   ],
   "source": [
    "print paired_p['p'].loc[(pairs['species_x']=='red draconian') & (pairs['species_y']=='yellow draconian')].values[0]"
   ]
  },
  {
   "cell_type": "markdown",
   "metadata": {},
   "source": [
    "**Yes.** The wisdom of the masses prevails! (With p < .05)\n",
    "\n",
    "And actually, we can cut that measured p-value in half, because we're doing a one-tailed test. That is, we're testing the hypothesis that red's win rate is significantly *better than* yellow's, not just significantly different from it."
   ]
  },
  {
   "cell_type": "markdown",
   "metadata": {},
   "source": [
    "## Error bars\n",
    "\n",
    "Finally, let's see if we can stick some error bars on our chart. I'll be using 95% confidence intervals, though another valid approach would be to use the [standard error of the mean](https://en.wikipedia.org/wiki/Standard_error).\n",
    "\n",
    "Wikipedia describes at least [seven](https://en.wikipedia.org/wiki/Binomial_proportion_confidence_interval) methods for calculating confidence intervals for binomial proportions. None of them have scipy oneliners, so I mopped a code snippet from on [StackOverflow](http://stackoverflow.com/a/24023800/262271). (It implements the [Wilson score interval](https://en.wikipedia.org/wiki/Binomial_proportion_confidence_interval#Wilson_score_interval)).\n",
    "\n",
    "Let's use it to calculate 95% confidence intervals for each win rate, and plot them as error bars."
   ]
  },
  {
   "cell_type": "code",
   "execution_count": 9,
   "metadata": {
    "collapsed": false
   },
   "outputs": [
    {
     "data": {
      "image/png": "[encoded data removed]",
      "text/plain": [
       "<matplotlib.figure.Figure at 0xa271ddac>"
      ]
     },
     "metadata": {},
     "output_type": "display_data"
    }
   ],
   "source": [
    "from bin_conf import binconf\n",
    "\n",
    "err_low = drac_table.apply(\n",
    "    lambda row: binconf(row['games won'], (row['games played']-row['games won']), c=.95)[0],\n",
    "    axis=1) * 100\n",
    "err_high = drac_table.apply(\n",
    "    lambda row: binconf(row['games won'], (row['games played']-row['games won']), c=.95)[1],\n",
    "    axis=1) * 100\n",
    "cwr = color_winrates\n",
    "# matplotlib wants offsets, not positions\n",
    "err_low = color_winrates - err_low[cwr.index]\n",
    "err_high = err_high[cwr.index] - color_winrates\n",
    "\n",
    "fig, ax = plt.subplots(figsize=(9,7))\n",
    "colours = [(.2,.2,.2), 'pink', (1,.9,0), 'aliceblue', 'ivory', 'purple', 'green', 'crimson', 'grey']\n",
    "cdrac_index = f['species'].isin(colored_dracs)\n",
    "color_winrates = (f[cdrac_index].groupby('species')['won'].mean().dropna() * 100).sort_values()\n",
    "xrange = np.arange(len(colours))\n",
    "labels = [name.split()[0] for name in color_winrates.index]\n",
    "bars = ax.bar(xrange, color_winrates.values, \n",
    "               color=colours, tick_label=labels, \n",
    "              edgecolor='black', lw=1,\n",
    "              yerr=[err_low[color_winrates.index].values, err_high[color_winrates.index].values],\n",
    "              )\n",
    "bars[1].set_hatch('.')\n",
    "ax.set_title('Win rate per draconian colour (with 95% confidence intervals)');\n",
    "ax.grid(axis='y');"
   ]
  },
  {
   "cell_type": "markdown",
   "metadata": {},
   "source": [
    "These (pretty huge) error bars span a range that we can be 95% confident contains the true win rate for a given colour. \n",
    "\n",
    "These are useful for guiding our intuition about how much uncertainty we have about each measurement, though we can't really use them to make any rigorous claims about which pairs are significantly different.\n",
    "\n",
    "It's tempting to assume that two colours differ with p < .05 if-and-only-if their confidence intervals fail to overlap, but that doesn't hold up. The probability that black's win rate is outside the C.I. is 5%, same for grey. If grey and black are to have the same win rate, then *both* those unlikely things need to happen (or one of their win rates needs to be *way* outside the confidence interval). C.I.'s failing to overlap is at least a sufficient condition to conclude that two means are likely different, but that's not taking into account multiple comparisons.\n",
    "\n",
    "## Conclusions\n",
    "\n",
    "From these experiments, a really anal-retentive statistician would probably be willing to accept the following conclusions:\n",
    "\n",
    "- Grey draconians are better than black draconians.\n",
    "- Red draconians are better than yellow draconians.\n",
    "\n",
    "(We also separately showed that draconian colour is not independent of win rate, though this is implied by either of the two claims above.)\n",
    "\n",
    "We could reasonably intuit some more claims about the data (\"grey draconians are better than mottled\", \"pale draconians aren't the best colour\"), but it's surprisingly difficult to make sound statistical arguments for some seemingly obvious patterns.\n",
    "\n",
    "It's interesting to compare the statistics with the opinions players gave on the forums. Yellow, the only colour that got consistently bad ratings, did turn out to have a low win rate, and Red, the colour with the most consistently positive ratings, did have a high win rate. On the other hand:\n",
    "\n",
    "- None of the five posters I reviewed put grey draconians in their top bracket. They were consistently rated in the middle or just above the middle.\n",
    "- No-one put black draconians in their bottom bracket. Three posters rated them below average, and two rated them above average."
   ]
  }
 ],
 "metadata": {
  "kernelspec": {
   "display_name": "Python 2",
   "language": "python",
   "name": "python2"
  },
  "language_info": {
   "codemirror_mode": {
    "name": "ipython",
    "version": 2
   },
   "file_extension": ".py",
   "mimetype": "text/x-python",
   "name": "python",
   "nbconvert_exporter": "python",
   "pygments_lexer": "ipython2",
   "version": "2.7.6"
  }
 },
 "nbformat": 4,
 "nbformat_minor": 2
}
