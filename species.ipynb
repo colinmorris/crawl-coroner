{
 "cells": [
  {
   "cell_type": "code",
   "execution_count": 1,
   "metadata": {
    "collapsed": false
   },
   "outputs": [
    {
     "data": {
      "text/plain": [
       "13"
      ]
     },
     "execution_count": 1,
     "metadata": {},
     "output_type": "execute_result"
    }
   ],
   "source": [
    "%matplotlib inline\n",
    "from vis_common import *"
   ]
  },
  {
   "cell_type": "code",
   "execution_count": null,
   "metadata": {
    "collapsed": true
   },
   "outputs": [],
   "source": [
    "species = f['species'].cat.categories\n",
    "drac_species = [sp for sp in species if 'draconian' in sp]\n",
    "idrac = f['species'].isin(drac_species)"
   ]
  },
  {
   "cell_type": "code",
   "execution_count": null,
   "metadata": {
    "collapsed": true
   },
   "outputs": [],
   "source": [
    "# Baby draconians can basically never win\n",
    "# TODO: should actually combine all colours of draconians plus babies into one bucket\n",
    "plot_winrate(f[f['species'] != 'draconian'], 'species')"
   ]
  },
  {
   "cell_type": "code",
   "execution_count": null,
   "metadata": {
    "collapsed": true
   },
   "outputs": [],
   "source": [
    "death_lvls = f[ilost & idrac].groupby('level').size()\n",
    "death_lvls.plot.bar(title='Draconian deaths by level');\n",
    "# No peak at lvl 7. Guess players really aren't scumming drac colours.\n",
    "# TODO: Some day I'll understand matplotlib primitives well enough to do stuff like putting plots\n",
    "# next to each other."
   ]
  },
  {
   "cell_type": "code",
   "execution_count": null,
   "metadata": {
    "collapsed": true
   },
   "outputs": [],
   "source": [
    "f[ilost].groupby('level').size().plot.bar(title='Deaths by player level');"
   ]
  },
  {
   "cell_type": "code",
   "execution_count": null,
   "metadata": {
    "collapsed": true
   },
   "outputs": [],
   "source": [
    "colored_dracs = [sp for sp in drac_species if sp != 'draconian']\n",
    "cdrac_index = f['species'].isin(colored_dracs)\n",
    "color_winrates = (f[cdrac_index].groupby('species')['won'].mean().dropna() * 100).sort_values()\n",
    "color_winrates.plot.bar(title='Win rate by draconian colour');"
   ]
  },
  {
   "cell_type": "code",
   "execution_count": null,
   "metadata": {
    "collapsed": true
   },
   "outputs": [],
   "source": [
    "f[cdrac_index].groupby('species').size()[colored_dracs]"
   ]
  },
  {
   "cell_type": "code",
   "execution_count": null,
   "metadata": {
    "collapsed": true
   },
   "outputs": [],
   "source": [
    "f[cdrac_index & iwon].groupby('species').size()[colored_dracs]\n",
    "# small sample size. Hopefully can get a better fix once more data is downloaded."
   ]
  },
  {
   "cell_type": "code",
   "execution_count": null,
   "metadata": {
    "collapsed": true
   },
   "outputs": [],
   "source": [
    "f[iquit & idrac].groupby('level').size().plot.bar();\n",
    "# AHA! There are draconian colour scummers out there!"
   ]
  }
 ],
 "metadata": {
  "kernelspec": {
   "display_name": "Python 2",
   "language": "python",
   "name": "python2"
  },
  "language_info": {
   "codemirror_mode": {
    "name": "ipython",
    "version": 2
   },
   "file_extension": ".py",
   "mimetype": "text/x-python",
   "name": "python",
   "nbconvert_exporter": "python",
   "pygments_lexer": "ipython2",
   "version": "2.7.6"
  }
 },
 "nbformat": 4,
 "nbformat_minor": 2
}
