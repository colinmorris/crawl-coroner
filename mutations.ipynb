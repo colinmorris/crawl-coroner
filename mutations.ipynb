{
 "cells": [
  {
   "cell_type": "code",
   "execution_count": 1,
   "metadata": {
    "collapsed": true,
    "deletable": true,
    "editable": true
   },
   "outputs": [],
   "source": [
    "%matplotlib inline\n",
    "from __future__ import division\n",
    "from matplotlib import pyplot as plt\n",
    "import pandas as pd\n",
    "import numpy as np\n",
    "\n",
    "from vis_common import load_store, load_games\n",
    "\n",
    "FS = (10, 6) # Reasonable default figsize\n",
    "\n",
    "DECILES = list(np.arange(0.1, 1.0, 0.1))\n",
    "\n",
    "store = load_store()\n",
    "g = games = load_games()\n",
    "m = store['mutations']"
   ]
  },
  {
   "cell_type": "code",
   "execution_count": 6,
   "metadata": {
    "collapsed": false,
    "deletable": true,
    "editable": true
   },
   "outputs": [
    {
     "name": "stdout",
     "output_type": "stream",
     "text": [
      "1,609,046 rows (1,301,498 mutations gained, 307,548 lost)\n"
     ]
    }
   ],
   "source": [
    "print \"{:,} rows ({:,} mutations gained, {:,} lost)\".format(\n",
    "    len(m), m['gained'].sum(), (~m['gained']).sum()\n",
    ")"
   ]
  },
  {
   "cell_type": "code",
   "execution_count": 7,
   "metadata": {
    "collapsed": false,
    "deletable": true,
    "editable": true
   },
   "outputs": [
    {
     "data": {
      "text/html": [
       "<div>\n",
       "<table border=\"1\" class=\"dataframe\">\n",
       "  <thead>\n",
       "    <tr style=\"text-align: right;\">\n",
       "      <th></th>\n",
       "      <th>gained</th>\n",
       "      <th>gid</th>\n",
       "      <th>source</th>\n",
       "      <th>turn</th>\n",
       "    </tr>\n",
       "  </thead>\n",
       "  <tbody>\n",
       "    <tr>\n",
       "      <th>0</th>\n",
       "      <td>True</td>\n",
       "      <td>2</td>\n",
       "      <td>potion of mutation</td>\n",
       "      <td>1576</td>\n",
       "    </tr>\n",
       "    <tr>\n",
       "      <th>1</th>\n",
       "      <td>True</td>\n",
       "      <td>12</td>\n",
       "      <td>potion of mutation</td>\n",
       "      <td>1970</td>\n",
       "    </tr>\n",
       "    <tr>\n",
       "      <th>2</th>\n",
       "      <td>True</td>\n",
       "      <td>12</td>\n",
       "      <td>potion of mutation</td>\n",
       "      <td>1970</td>\n",
       "    </tr>\n",
       "    <tr>\n",
       "      <th>3</th>\n",
       "      <td>True</td>\n",
       "      <td>12</td>\n",
       "      <td>potion of mutation</td>\n",
       "      <td>1970</td>\n",
       "    </tr>\n",
       "    <tr>\n",
       "      <th>4</th>\n",
       "      <td>True</td>\n",
       "      <td>13</td>\n",
       "      <td>demonic ancestry</td>\n",
       "      <td>413</td>\n",
       "    </tr>\n",
       "  </tbody>\n",
       "</table>\n",
       "</div>"
      ],
      "text/plain": [
       "  gained  gid              source  turn\n",
       "0   True    2  potion of mutation  1576\n",
       "1   True   12  potion of mutation  1970\n",
       "2   True   12  potion of mutation  1970\n",
       "3   True   12  potion of mutation  1970\n",
       "4   True   13    demonic ancestry   413"
      ]
     },
     "execution_count": 7,
     "metadata": {},
     "output_type": "execute_result"
    }
   ],
   "source": [
    "m.head()"
   ]
  },
  {
   "cell_type": "code",
   "execution_count": 8,
   "metadata": {
    "collapsed": false,
    "deletable": true,
    "editable": true
   },
   "outputs": [
    {
     "data": {
      "text/plain": [
       "potion of mutation                  387490\n",
       "demonic ancestry                    357045\n",
       "other                               188197\n",
       "potion of cure mutation             182794\n",
       "mutagenic meat                      169278\n",
       "species                              61213\n",
       "jiyva's grace                        47072\n",
       "xom's mischief                       38957\n",
       "an orb of fire                       38805\n",
       "a neqoxec                            38307\n",
       "xom's grace                          32084\n",
       "a shining eye                        26784\n",
       "ru sacrifice                         22204\n",
       "a cacodemon                          15671\n",
       "jiyva's power                         3064\n",
       "the severe capriciousness of xom        81\n",
       "wand of polymorph other                  0\n",
       "Name: source, dtype: int64"
      ]
     },
     "execution_count": 8,
     "metadata": {},
     "output_type": "execute_result"
    }
   ],
   "source": [
    "m['source'].value_counts()"
   ]
  },
  {
   "cell_type": "code",
   "execution_count": 18,
   "metadata": {
    "collapsed": false,
    "deletable": true,
    "editable": true
   },
   "outputs": [
    {
     "data": {
      "text/plain": [
       "pid\n",
       "0    0.006721\n",
       "1    0.003361\n",
       "2    0.006721\n",
       "3    0.006721\n",
       "4    0.002549\n",
       "Name: won, dtype: float64"
      ]
     },
     "execution_count": 18,
     "metadata": {},
     "output_type": "execute_result"
    }
   ],
   "source": [
    "wr_prior = g['won'].mean()\n",
    "# Controls the strength of the smoothing\n",
    "C = 10\n",
    "# TODO: This might be too generous to players who have played just one game and won it. Do they\n",
    "# belong in the top 5% of players? Actually, they land in the top 2%. Median # of games played \n",
    "# among top 5% of players by smoothed wr is 20).\n",
    "# Could remedy this by increasing C, or maybe even reducing prior? (Though of course this will\n",
    "# have the effect of making the smoothed wr a biased estimate).\n",
    "\n",
    "# Seems like there are maybe some more interesting things that could be done with our choice of\n",
    "# prior. What about setting a prior equal to the micro-averaged mean win rate? Maybe that's dumb.\n",
    "# But at a high level, it seems like we're giving something up by taking all these win counts per\n",
    "# player and summing them all together to get one monolithic prior wr. Like, we can get more than\n",
    "# just an estimate of the mean wr, we can also get a sense of the shape of the distribution of wrs.\n",
    "# We know that it's very skewed. Should that affect how we choose a smoothed wr?\n",
    "# e.g. if we knew our distribution was arcsine-like (i.e. strongly U-shaped), then wouldn't we \n",
    "# generally be better off pushing measured values closer to the extremes, rather than closer to \n",
    "# the middle?\n",
    "# Also, it could be that the number of games played is a factor we could use in making our estimate?\n",
    "# e.g. if we know that the overall win rate is X%, but the win rate over games played by players with\n",
    "# less than 10 total games is Y <<< X%. \n",
    "# (If the above turns out to be the case, that could solve the concern about the current scheme being\n",
    "# too generous to players with one win out of one game or a handful of games)\n",
    "def smoothed_wr(won_col):\n",
    "    return ( (won_col.sum() + (C * wr_prior))\n",
    "            / (C + len(won_col)) )\n",
    "smoothed_wrs = g.groupby('pid')['won'].agg(smoothed_wr)\n"
   ]
  },
  {
   "cell_type": "code",
   "execution_count": 19,
   "metadata": {
    "collapsed": false,
    "deletable": true,
    "editable": true
   },
   "outputs": [],
   "source": [
    "g['wr'] = smoothed_wrs.loc[g['pid']].values\n"
   ]
  },
  {
   "cell_type": "markdown",
   "metadata": {
    "deletable": true,
    "editable": true
   },
   "source": [
    "# Do newbies drink more potions of mutation / eat more mutagenic flesh?\n",
    "\n",
    "There are a few ways we could try to measure this (assuming we have some measure of \"newb-ness\").\n",
    "\n",
    "1. Compare average number of random mutation events among newbie games vs. skilled player games\n",
    "    - problem: skilled player games tend to last longer. They'll therefore have more opportunities\n",
    "      to gain mutations. Characters that die early probably won't even find any potions of mut\n",
    "      or monsters with mutagenic flesh.\n",
    "      \n",
    "2. Compare mutation events *per turn* \n",
    "3. Compare mutation events among games with some minimum milestone reached\n",
    "4. ???"
   ]
  },
  {
   "cell_type": "code",
   "execution_count": 19,
   "metadata": {
    "collapsed": false,
    "deletable": true,
    "editable": true
   },
   "outputs": [
    {
     "data": {
      "text/plain": [
       "count    387490.000000\n",
       "mean      10155.560089\n",
       "std       19460.558896\n",
       "min           2.000000\n",
       "25%        2052.000000\n",
       "50%        4351.000000\n",
       "75%        9710.750000\n",
       "max      584480.000000\n",
       "Name: turn, dtype: float64"
      ]
     },
     "execution_count": 19,
     "metadata": {},
     "output_type": "execute_result"
    }
   ],
   "source": [
    "# When do players drink potions of mutation?\n",
    "m[m['source']=='potion of mutation']['turn'].describe()"
   ]
  },
  {
   "cell_type": "code",
   "execution_count": 2,
   "metadata": {
    "collapsed": false,
    "deletable": true,
    "editable": true
   },
   "outputs": [
    {
     "data": {
      "text/plain": [
       "295910"
      ]
     },
     "execution_count": 2,
     "metadata": {},
     "output_type": "execute_result"
    }
   ],
   "source": [
    "( (g['turns'] >= 2000) & (g['turns'] < 4000) ).sum()"
   ]
  },
  {
   "cell_type": "code",
   "execution_count": 8,
   "metadata": {
    "collapsed": true,
    "deletable": true,
    "editable": true
   },
   "outputs": [],
   "source": [
    "foo = m[m['source']=='potion of mutation'].groupby(['gid', 'turn'], as_index=False).agg(lambda x: 1)\n",
    "mutquaffs = foo.groupby('gid').size()\n",
    "mutquaffs.head()\n",
    "g['poms'] = mutquaffs\n",
    "g['poms'].fillna(0, inplace=True)"
   ]
  },
  {
   "cell_type": "code",
   "execution_count": 11,
   "metadata": {
    "collapsed": false,
    "deletable": true,
    "editable": true
   },
   "outputs": [
    {
     "data": {
      "text/plain": [
       "gid\n",
       "2     1\n",
       "12    1\n",
       "21    1\n",
       "31    2\n",
       "39    1\n",
       "dtype: int64"
      ]
     },
     "execution_count": 11,
     "metadata": {},
     "output_type": "execute_result"
    }
   ],
   "source": []
  },
  {
   "cell_type": "code",
   "execution_count": 12,
   "metadata": {
    "collapsed": true
   },
   "outputs": [],
   "source": []
  },
  {
   "cell_type": "code",
   "execution_count": 14,
   "metadata": {
    "collapsed": false
   },
   "outputs": [],
   "source": []
  },
  {
   "cell_type": "code",
   "execution_count": 17,
   "metadata": {
    "collapsed": false
   },
   "outputs": [
    {
     "name": "stdout",
     "output_type": "stream",
     "text": [
      "149,568 potions of mutation quaffed over 1,326,162 games (avg. 0.11 per game)\n"
     ]
    }
   ],
   "source": [
    "print \"{:,} potions of mutation quaffed over {:,} games (avg. {:.2f} per game)\".format(\n",
    "    mutquaffs.sum(), len(g), mutquaffs.sum()/len(g)\n",
    ")"
   ]
  },
  {
   "cell_type": "code",
   "execution_count": 21,
   "metadata": {
    "collapsed": false
   },
   "outputs": [
    {
     "data": {
      "text/plain": [
       "count    1.326162e+06\n",
       "mean     7.398727e-01\n",
       "std      2.132121e+00\n",
       "min      1.564103e-03\n",
       "10%      8.940164e-03\n",
       "20%      2.014582e-02\n",
       "30.0%    3.850790e-02\n",
       "40%      7.178171e-02\n",
       "50%      1.320271e-01\n",
       "60%      2.385005e-01\n",
       "70%      4.589466e-01\n",
       "80%      7.670965e-01\n",
       "90%      1.727191e+00\n",
       "max      6.459563e+01\n",
       "Name: wr, dtype: float64"
      ]
     },
     "execution_count": 21,
     "metadata": {},
     "output_type": "execute_result"
    }
   ],
   "source": [
    "(100*g['wr']).describe(DECILES)"
   ]
  },
  {
   "cell_type": "code",
   "execution_count": 22,
   "metadata": {
    "collapsed": true
   },
   "outputs": [],
   "source": []
  },
  {
   "cell_type": "code",
   "execution_count": 53,
   "metadata": {
    "collapsed": false
   },
   "outputs": [],
   "source": [
    "#g['decile'] = pd.qcut(g['wr'], q=10)\n",
    "g['decile'] = pd.qcut(g['wr'], \n",
    "    q=[0, .25, .5, .75, .9, .95, 1.],\n",
    "    labels=['25%', '50%', '75%', '90%', '95%', '100%'],\n",
    ")"
   ]
  },
  {
   "cell_type": "code",
   "execution_count": 24,
   "metadata": {
    "collapsed": true
   },
   "outputs": [],
   "source": []
  },
  {
   "cell_type": "code",
   "execution_count": 26,
   "metadata": {
    "collapsed": false
   },
   "outputs": [],
   "source": []
  },
  {
   "cell_type": "code",
   "execution_count": 54,
   "metadata": {
    "collapsed": false
   },
   "outputs": [
    {
     "data": {
      "image/png": "[encoded data removed]",
      "text/plain": [
       "<matplotlib.figure.Figure at 0x7f1a049f9190>"
      ]
     },
     "metadata": {},
     "output_type": "display_data"
    }
   ],
   "source": [
    "foo = g.groupby('decile')[['poms', 'turns']]\n",
    "bar = foo.apply(lambda x: x['poms'].sum() / x['turns'].sum())\n",
    "bar.plot.bar(figsize=FS, title=\"Mutation pots quaffed per win rate decile (normalized by #turns)\");"
   ]
  },
  {
   "cell_type": "code",
   "execution_count": 55,
   "metadata": {
    "collapsed": false
   },
   "outputs": [
    {
     "data": {
      "image/png": "[encoded data removed]",
      "text/plain": [
       "<matplotlib.figure.Figure at 0x7f1a04b94d10>"
      ]
     },
     "metadata": {},
     "output_type": "display_data"
    }
   ],
   "source": [
    "# Alternative metric: of games lasting at least N turns, avg. number of mut pots quaffed before turn N?\n",
    "turn_thresh = 4351 # Median quaff turn\n",
    "\n",
    "mutquaffs = m[(m['source']=='potion of mutation') & (m['turn'] <= turn_thresh)]\\\n",
    "    .groupby(['gid', 'turn'], as_index=False).agg(lambda x: 1)\\\n",
    "    .groupby('gid').size()\n",
    "g['poms'] = mutquaffs\n",
    "g['poms'].fillna(0, inplace=True)\n",
    "\n",
    "g[g['turns'] > turn_thresh].groupby('decile')['poms']\\\n",
    "    .apply(lambda x: x.sum() / len(x) )\\\n",
    "    .plot.bar(figsize=FS, title=\"Avg. pots of mut quaffed before turn 4351, by decile\");"
   ]
  },
  {
   "cell_type": "code",
   "execution_count": 56,
   "metadata": {
    "collapsed": false
   },
   "outputs": [
    {
     "data": {
      "image/png": "[encoded data removed]",
      "text/plain": [
       "<matplotlib.figure.Figure at 0x7f1a04b655d0>"
      ]
     },
     "metadata": {},
     "output_type": "display_data"
    }
   ],
   "source": [
    "# Now with mutagenic meat\n",
    "mutquaffs = m[(m['source']=='mutagenic meat')]\\\n",
    "    .groupby(['gid', 'turn'], as_index=False).agg(lambda x: 1)\\\n",
    "    .groupby('gid').size()\n",
    "g['poms'] = mutquaffs\n",
    "g['poms'].fillna(0, inplace=True)\n",
    "\n",
    "g.groupby('decile')[['poms', 'turns']].apply(lambda x: x['poms'].sum() / x['turns'].sum())\\\n",
    "    .plot.bar(figsize=FS, title='Mutagenic meat eaten per turn, per quantile');"
   ]
  },
  {
   "cell_type": "code",
   "execution_count": 57,
   "metadata": {
    "collapsed": false
   },
   "outputs": [
    {
     "data": {
      "text/plain": [
       "Index([u'25%', u'50%', u'75%', u'90%', u'95%', u'100%'], dtype='object')"
      ]
     },
     "execution_count": 57,
     "metadata": {},
     "output_type": "execute_result"
    }
   ],
   "source": [
    "g['decile'].cat.categories"
   ]
  },
  {
   "cell_type": "code",
   "execution_count": 49,
   "metadata": {
    "collapsed": false
   },
   "outputs": [
    {
     "name": "stdout",
     "output_type": "stream",
     "text": [
      "Bottom decile contains 89 players with 0 total wins.\n",
      "\n",
      "Dist of games played...\n"
     ]
    },
    {
     "data": {
      "text/plain": [
       "count      89.000000\n",
       "mean     1487.887640\n",
       "std       789.694006\n",
       "min       819.000000\n",
       "25%      1006.000000\n",
       "50%      1204.000000\n",
       "75%      1661.000000\n",
       "max      4717.000000\n",
       "dtype: float64"
      ]
     },
     "execution_count": 49,
     "metadata": {},
     "output_type": "execute_result"
    }
   ],
   "source": [
    "worst = 8.94e-05\n",
    "gworst = g[g['wr'] <= worst]\n",
    "print \"Bottom decile contains {} players with {} total wins.\".format(\n",
    "    len(gworst['pid'].unique()), gworst['won'].sum()\n",
    ")\n",
    "print \"\\nDist of games played...\"\n",
    "gworst.groupby('pid').size().describe()"
   ]
  },
  {
   "cell_type": "code",
   "execution_count": 58,
   "metadata": {
    "collapsed": false
   },
   "outputs": [
    {
     "data": {
      "text/plain": [
       "decile\n",
       "25%       533\n",
       "50%      2336\n",
       "75%      9807\n",
       "90%     12250\n",
       "95%       382\n",
       "100%      696\n",
       "dtype: int64"
      ]
     },
     "execution_count": 58,
     "metadata": {},
     "output_type": "execute_result"
    }
   ],
   "source": [
    "# How many distinct players per decile?\n",
    "g.groupby('decile').apply(lambda gr: len(gr['pid'].unique()))"
   ]
  },
  {
   "cell_type": "code",
   "execution_count": 44,
   "metadata": {
    "collapsed": false
   },
   "outputs": [
    {
     "data": {
      "text/plain": [
       "decile\n",
       "[1.56e-05, 8.94e-05]    29362\n",
       "(8.94e-05, 0.000201]    29689\n",
       "(0.000201, 0.000385]    32469\n",
       "(0.000385, 0.000718]    33151\n",
       "(0.000718, 0.00132]     34577\n",
       "(0.00132, 0.00239]      34792\n",
       "(0.00239, 0.00459]      37706\n",
       "(0.00459, 0.00767]      38991\n",
       "(0.00767, 0.0173]       49906\n",
       "(0.0173, 0.646]         58793\n",
       "dtype: int64"
      ]
     },
     "execution_count": 44,
     "metadata": {},
     "output_type": "execute_result"
    }
   ],
   "source": [
    "# How many long-enough games per decile?\n",
    "g.groupby('decile').apply(lambda grp: (grp['turns'] > turn_thresh).sum() )"
   ]
  },
  {
   "cell_type": "code",
   "execution_count": 63,
   "metadata": {
    "collapsed": false
   },
   "outputs": [
    {
     "data": {
      "text/plain": [
       "decile\n",
       "25%     622.185741\n",
       "50%     142.200342\n",
       "75%      33.780157\n",
       "90%      16.262612\n",
       "95%     173.010471\n",
       "100%     94.494253\n",
       "dtype: float64"
      ]
     },
     "execution_count": 63,
     "metadata": {},
     "output_type": "execute_result"
    }
   ],
   "source": [
    "# Median # of games played per decile\n",
    "g.groupby('decile').apply(lambda gr: gr.groupby('pid').size().median())"
   ]
  },
  {
   "cell_type": "code",
   "execution_count": 69,
   "metadata": {
    "collapsed": false
   },
   "outputs": [
    {
     "data": {
      "text/plain": [
       "count    128.000000\n",
       "mean      99.640625\n",
       "std      153.387048\n",
       "min        3.000000\n",
       "25%       15.000000\n",
       "50%       41.000000\n",
       "75%      113.500000\n",
       "max      810.000000\n",
       "dtype: float64"
      ]
     },
     "execution_count": 69,
     "metadata": {},
     "output_type": "execute_result"
    }
   ],
   "source": [
    "g[g['wr'] > g['wr'].quantile(.99)].groupby('pid').size().describe()"
   ]
  },
  {
   "cell_type": "markdown",
   "metadata": {},
   "source": [
    "**TODO**: maybe use non-uniform quantiles? Probably want more differentiation at the top end,\n",
    "less at the bottom end?"
   ]
  }
 ],
 "metadata": {
  "kernelspec": {
   "display_name": "Python 2",
   "language": "python",
   "name": "python2"
  },
  "language_info": {
   "codemirror_mode": {
    "name": "ipython",
    "version": 2
   },
   "file_extension": ".py",
   "mimetype": "text/x-python",
   "name": "python",
   "nbconvert_exporter": "python",
   "pygments_lexer": "ipython2",
   "version": "2.7.12"
  }
 },
 "nbformat": 4,
 "nbformat_minor": 2
}
