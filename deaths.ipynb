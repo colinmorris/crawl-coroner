{
 "cells": [
  {
   "cell_type": "code",
   "execution_count": null,
   "metadata": {
    "collapsed": true
   },
   "outputs": [],
   "source": [
    "%matplotlib inline\n",
    "from vis_common import *"
   ]
  },
  {
   "cell_type": "code",
   "execution_count": null,
   "metadata": {
    "collapsed": true
   },
   "outputs": [],
   "source": [
    "f[ilost].groupby('level').size().plot.bar(title='Deaths by player level');"
   ]
  },
  {
   "cell_type": "code",
   "execution_count": null,
   "metadata": {
    "collapsed": true
   },
   "outputs": [],
   "source": [
    "# TODO: bleh, lots of junk places in here. Should probably check against a fixed set when parsing.\n",
    "x = f[ilost].groupby(['level', 'wheredied']).size().unstack()\n",
    "x = x.div(x.sum(axis=1), axis=0)\n",
    "# That legend is crazy, and probably need to normalize, but this isn't half-bad\n",
    "x.plot.area(figsize=(13,9), stacked=True, legend=1);"
   ]
  },
  {
   "cell_type": "code",
   "execution_count": null,
   "metadata": {
    "collapsed": true
   },
   "outputs": [],
   "source": [
    "visit_cols = [col for col in f.columns if col.startswith('visited_')]\n",
    "print visit_cols\n",
    "f.groupby('wheredied').size().where(lambda x: x > 0).dropna().head()"
   ]
  },
  {
   "cell_type": "code",
   "execution_count": null,
   "metadata": {
    "collapsed": true
   },
   "outputs": [],
   "source": [
    "visited_to_wheredied = {\n",
    "    'bailey': 'bailey',\n",
    "    'desolation': 'desolation of salt',\n",
    "    'ice cave': 'ice cave',\n",
    "    'labyrinth': 'labyrinth',\n",
    "    'ossuary': 'ossuary',\n",
    "    'sewer': 'sewer',\n",
    "    'volcano': 'volcano',\n",
    "    'wizlab': \"wizard's laboratory\",\n",
    "}\n",
    "\n",
    "# Probably a clever way to do this w/o explicit looping, but whatever\n",
    "vault_deadliness = {}\n",
    "for (v, w) in visited_to_wheredied.iteritems():\n",
    "    deaths = len(f[f['wheredied'] == w])\n",
    "    visits = len(f[f['visited_'+v] == True])\n",
    "    vault_deadliness[v] = 100 * deaths/(visits+0.0)\n",
    "print vault_deadliness"
   ]
  },
  {
   "cell_type": "code",
   "execution_count": null,
   "metadata": {
    "collapsed": true
   },
   "outputs": [],
   "source": [
    "plot_dict(vault_deadliness, 'Portal vault deadliness (% of entrants killed)');\n",
    "# Main trend here seems to be that vaults that appear later in the game have lower\n",
    "# lethality. This is probably less a property of the vaults themselves and more a\n",
    "# byproduct of how deaths are front-loaded to early player levels, and that players who\n",
    "# are able to make it as far as a wizlab are very skilled.\n",
    "# Would be cool to have some notion of 'level-adjusted deadliness'. Also for monsters."
   ]
  },
  {
   "cell_type": "code",
   "execution_count": null,
   "metadata": {
    "collapsed": true
   },
   "outputs": [],
   "source": [
    "n_players = len(f)\n",
    "n_deathplace = f['wheredied'].count()\n",
    "n_losers = len(f[ilost])\n",
    "print \"{} / {} losers' place of death unaccounted for\".format(n_losers-n_deathplace, n_losers)\n",
    "# Hm, that's like 10%? That's very worrying. Can those really all be players who quit/escaped?\n",
    "f[ilost & f['wheredied'].isnull()].groupby('level').size()\n",
    "# Maybe? Worth coming back to this once cause of death is recorded."
   ]
  },
  {
   "cell_type": "code",
   "execution_count": null,
   "metadata": {
    "collapsed": true
   },
   "outputs": [],
   "source": [
    "f.groupby('howdied').size().sort_values(ascending=False)"
   ]
  },
  {
   "cell_type": "markdown",
   "metadata": {},
   "source": [
    "One possible takeaway from the above is that starvation isn't really much of an existential threat in crawl, and that maybe food should be made more rare. While I do think this is true, the above doesn't really represent a strong argument for that, because you might be more likely to die to a monster as a result of the symptoms of being on the brink of starvation death (nocast, combat penalties, fainting) before you die of starvation directly.\n",
    "\n",
    "Could test that case by recording satiety level on death and counting how often people die while at 'starving' level hunger."
   ]
  },
  {
   "cell_type": "code",
   "execution_count": null,
   "metadata": {
    "collapsed": true
   },
   "outputs": [],
   "source": [
    "f[f['saw_temple']==True].groupby('howdied').size().sort_values(ascending=False)"
   ]
  },
  {
   "cell_type": "code",
   "execution_count": null,
   "metadata": {
    "collapsed": true
   },
   "outputs": [],
   "source": [
    "f[iquit].groupby('level').size().plot.bar();\n",
    "# A lot of people quit at level 1, and I don't know why. Like a loooot."
   ]
  }
 ],
 "metadata": {
  "kernelspec": {
   "display_name": "Python 2",
   "language": "python",
   "name": "python2"
  },
  "language_info": {
   "codemirror_mode": {
    "name": "ipython",
    "version": 2
   },
   "file_extension": ".py",
   "mimetype": "text/x-python",
   "name": "python",
   "nbconvert_exporter": "python",
   "pygments_lexer": "ipython2",
   "version": "2.7.6"
  }
 },
 "nbformat": 4,
 "nbformat_minor": 2
}
