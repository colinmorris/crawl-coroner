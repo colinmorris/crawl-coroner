{
 "cells": [
  {
   "cell_type": "code",
   "execution_count": null,
   "metadata": {
    "collapsed": true
   },
   "outputs": [],
   "source": [
    "%matplotlib inline\n",
    "from vis_common import *\n",
    "import numpy as np\n",
    "from matplotlib import pyplot as plt"
   ]
  },
  {
   "cell_type": "code",
   "execution_count": null,
   "metadata": {
    "collapsed": true
   },
   "outputs": [],
   "source": [
    "f[ (f['time'] > 0) & (f['turns'] > 0) ].plot.hexbin(x='time', y='turns', \n",
    "                                                              gridsize=50, \n",
    "                                                    xscale='log', yscale='log',\n",
    "                                                              figsize=(9,7))"
   ]
  },
  {
   "cell_type": "code",
   "execution_count": null,
   "metadata": {
    "collapsed": true
   },
   "outputs": [],
   "source": [
    "s = 4\n",
    "alpha = 0.1\n",
    "ax = f[iwon].head(5000).plot.scatter(x='time', y='turns', color='lightgreen', label='won',\n",
    "                         #xscale='log', yscale='log',\n",
    "                                    loglog=1,\n",
    "                            figsize=(9,7), alpha=alpha*2, s=s, lw=0)\n",
    "ax.set_xlim(left=10)\n",
    "ax.set_ylim(bottom=10)\n",
    "f[ilost].head(10000).plot.scatter(x='time', y='turns', color='darkred', label='lost', ax=ax, alpha=alpha, s=s, lw=0);\n",
    "# Hey, I found an island of bots!\n",
    "#f[f['howdied']=='quit'].head(1000).plot.scatter(x='time', y='turns', color='blue', label='quit', ax=ax, alpha=1, s=s, lw=0);"
   ]
  },
  {
   "cell_type": "code",
   "execution_count": null,
   "metadata": {
    "collapsed": true
   },
   "outputs": [],
   "source": [
    "turns_per_sec = (f[f['level'] > 1]['turns'] / f[f['level'] > 1]['time'])\n",
    "bins = list(np.arange(0, 20, .25)) + [200]\n",
    "counts, _ = np.histogram(turns_per_sec, bins)\n",
    "plt.bar(bins[:-1], counts, width=.25);\n",
    "# Turns taken per second"
   ]
  },
  {
   "cell_type": "code",
   "execution_count": null,
   "metadata": {
    "collapsed": true
   },
   "outputs": [],
   "source": [
    "turns_per_sec = (f[iwon]['turns'] / f[iwon]['time'])\n",
    "bins = list(np.arange(0, 12, 1/3.0)) + [200]\n",
    "counts, _ = np.histogram(turns_per_sec, bins)\n",
    "plt.bar(bins[:-1], counts, width=.33);\n",
    "# Turns per second among winners"
   ]
  },
  {
   "cell_type": "code",
   "execution_count": null,
   "metadata": {
    "collapsed": true
   },
   "outputs": [],
   "source": [
    "# TODO: I wish there was a way to manually set the bandwidth :(\n",
    "turns_per_sec.plot.kde(xlim=(0,12))"
   ]
  }
 ],
 "metadata": {
  "kernelspec": {
   "display_name": "Python 2",
   "language": "python",
   "name": "python2"
  },
  "language_info": {
   "codemirror_mode": {
    "name": "ipython",
    "version": 2
   },
   "file_extension": ".py",
   "mimetype": "text/x-python",
   "name": "python",
   "nbconvert_exporter": "python",
   "pygments_lexer": "ipython2",
   "version": "2.7.6"
  }
 },
 "nbformat": 4,
 "nbformat_minor": 2
}
