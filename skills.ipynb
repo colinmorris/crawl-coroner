{
 "cells": [
  {
   "cell_type": "code",
   "execution_count": null,
   "metadata": {
    "collapsed": true
   },
   "outputs": [],
   "source": [
    "%matplotlib inline\n",
    "from vis_common import *"
   ]
  },
  {
   "cell_type": "code",
   "execution_count": null,
   "metadata": {
    "collapsed": true
   },
   "outputs": [],
   "source": [
    "legacy_skills = ['skill_stabbing', 'skill_traps', 'skill_traps & doors']\n",
    "skill_cols = [col for col in f.columns if col.startswith('skill_') and col not in legacy_skills]\n",
    "\n",
    "maxed = {}\n",
    "nonzero = {} # % of winners having non-zero level in each skill\n",
    "nwinners = len(f[iwon]) + 0.0\n",
    "for col in skill_cols:\n",
    "    skill = col[len('skill_'):]\n",
    "    maxed[skill] = len(f[f[col] == 27])\n",
    "    nonzero_winners = len(f[iwon & (f[col] > 0)])\n",
    "    nonzero[skill] = 100 * nonzero_winners / nwinners"
   ]
  },
  {
   "cell_type": "code",
   "execution_count": null,
   "metadata": {
    "collapsed": true
   },
   "outputs": [],
   "source": [
    "# TODO: Why is there so much goddamn padding above and below the top and bottom bars?\n",
    "plot_dict(maxed, 'How often is each skill maxed out?', size=(12,12), horizontal=1);"
   ]
  },
  {
   "cell_type": "code",
   "execution_count": null,
   "metadata": {
    "collapsed": true
   },
   "outputs": [],
   "source": [
    "plot_dict(nonzero, 'What % of winners have non-zero levels in each skill?', size=(12,12), horizontal=1);"
   ]
  }
 ],
 "metadata": {
  "kernelspec": {
   "display_name": "Python 2",
   "language": "python",
   "name": "python2"
  },
  "language_info": {
   "codemirror_mode": {
    "name": "ipython",
    "version": 2
   },
   "file_extension": ".py",
   "mimetype": "text/x-python",
   "name": "python",
   "nbconvert_exporter": "python",
   "pygments_lexer": "ipython2",
   "version": "2.7.6"
  }
 },
 "nbformat": 4,
 "nbformat_minor": 2
}
