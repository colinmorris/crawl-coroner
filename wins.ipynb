{
 "cells": [
  {
   "cell_type": "code",
   "execution_count": null,
   "metadata": {
    "collapsed": true
   },
   "outputs": [],
   "source": [
    "%matplotlib inline\n",
    "from vis_common import *"
   ]
  },
  {
   "cell_type": "code",
   "execution_count": null,
   "metadata": {
    "collapsed": true
   },
   "outputs": [],
   "source": [
    "print 'Overall average win rate: {:.2f}%'.format(f['won'].mean() * 100)\n",
    "\n",
    "wr_per_version = f.groupby('version')['won'].mean() * 100\n",
    "wr_per_version.plot(title='Win rate per version')"
   ]
  },
  {
   "cell_type": "code",
   "execution_count": null,
   "metadata": {
    "collapsed": true
   },
   "outputs": [],
   "source": [
    "# TODO: Would be kinda nice to colour or group bgs everywhere according to the \n",
    "# grouping in game in the character select screen (warriors, mages, warrior-mages, other)\n",
    "# TODO: Also show pick rate in the same chart? stacked/side-by-side bars?\n",
    "plot_winrate(f, 'bg', 'Win rate by background')"
   ]
  },
  {
   "cell_type": "code",
   "execution_count": null,
   "metadata": {
    "collapsed": true
   },
   "outputs": [],
   "source": [
    "# TODO: replace nan's with actual category values so we can include atheists in the groupby\n",
    "plot_winrate('god')\n",
    "# TODO: filter by those who have seen the temple? (to avoid artificially low win rate for starter gods)"
   ]
  },
  {
   "cell_type": "code",
   "execution_count": null,
   "metadata": {
    "collapsed": true
   },
   "outputs": [],
   "source": [
    "def nrunes(n):\n",
    "    return f['nrunes'] == n\n",
    "\n",
    "rune_columns = [col for col in f.columns if col.startswith('rune_')]\n",
    "# TODO: would be more interesting (or at least more principled) to track *first* runes\n",
    "# (thus including runs that went on to get more than 1 rune). Need to parse the notes.\n",
    "f[nrunes(1)][rune_columns].sum().where(lambda x: x > 0).dropna().sort_values(ascending=False)\\\n",
    "    .plot.bar(title=\"Single runes\");"
   ]
  },
  {
   "cell_type": "code",
   "execution_count": null,
   "metadata": {
    "collapsed": true
   },
   "outputs": [],
   "source": [
    "f[nrunes(3)][rune_columns].sum().where(lambda x: x > 0).dropna().sort_values(ascending=False)\\\n",
    "    .plot.bar(title=\"Runes taken in 3-runs\");"
   ]
  },
  {
   "cell_type": "code",
   "execution_count": null,
   "metadata": {
    "collapsed": true
   },
   "outputs": [],
   "source": [
    "f[iwon].groupby('nrunes').size().plot.bar(title='Number of runes taken by winners');"
   ]
  }
 ],
 "metadata": {
  "kernelspec": {
   "display_name": "Python 2",
   "language": "python",
   "name": "python2"
  },
  "language_info": {
   "codemirror_mode": {
    "name": "ipython",
    "version": 2
   },
   "file_extension": ".py",
   "mimetype": "text/x-python",
   "name": "python",
   "nbconvert_exporter": "python",
   "pygments_lexer": "ipython2",
   "version": "2.7.6"
  }
 },
 "nbformat": 4,
 "nbformat_minor": 2
}
